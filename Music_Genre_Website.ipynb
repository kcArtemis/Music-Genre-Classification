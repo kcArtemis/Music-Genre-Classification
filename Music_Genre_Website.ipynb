{
 "cells": [
  {
   "cell_type": "code",
   "execution_count": 17,
   "metadata": {},
   "outputs": [],
   "source": [
    "import pandas as pd\n",
    "import numpy as np\n",
    "import librosa\n",
    "import librosa.feature as lib_fea\n",
    "from pydub import AudioSegment"
   ]
  },
  {
   "cell_type": "code",
   "execution_count": 19,
   "metadata": {},
   "outputs": [],
   "source": [
    "input_file = \"Pop.mp3\"\n",
    "output_file = \"result.wav\"\n",
    "  \n",
    "sound = AudioSegment.from_mp3(input_file)\n",
    "sound.export(output_file, format=\"wav\")\n",
    "y, sr = librosa.load(output_file)"
   ]
  },
  {
   "cell_type": "code",
   "execution_count": 11,
   "metadata": {},
   "outputs": [],
   "source": [
    "feature_ext = []\n",
    "for i in range(int(np.floor(len(y)/66149))):\n",
    "    data = y[i*66149:(i+1)*66149]\n",
    "    chroma_stft = lib_fea.chroma_stft(y=data)\n",
    "    rms = lib_fea.rms(y=data)\n",
    "    spectral_centroid = lib_fea.spectral_centroid(y=data)\n",
    "    spectral_bandwidth = lib_fea.spectral_bandwidth(y=data)\n",
    "    roll_off = lib_fea.spectral_rolloff(y=data)\n",
    "    zero_crossing_rate = lib_fea.zero_crossing_rate(y=data)\n",
    "    harmony = librosa.effects.harmonic(y=data)\n",
    "    perceptr = librosa.effects.percussive(y=data)\n",
    "    tempo = librosa.beat.tempo(y=data)\n",
    "    mfcc = lib_fea.mfcc(y=data, n_mfcc=20)\n",
    "    feature_per_3_sec = [chroma_stft.mean(), chroma_stft.var(), rms.mean(), rms.var(), spectral_centroid.mean(), spectral_centroid.var(), spectral_bandwidth.mean(), spectral_bandwidth.var(), roll_off.mean(), roll_off.var(), zero_crossing_rate.mean(), zero_crossing_rate.var(), harmony.mean(), harmony.var(), perceptr.mean(), perceptr.var(), tempo, mfcc[0].mean(), mfcc[0].var(), mfcc[1].mean(), mfcc[1].var(), mfcc[2].mean(), mfcc[2].var(), mfcc[3].mean(), mfcc[3].var(), mfcc[4].mean(), mfcc[4].var(), mfcc[5].mean(), mfcc[5].var(), mfcc[6].mean(), mfcc[6].var(), mfcc[7].mean(), mfcc[7].var(), mfcc[8].mean(), mfcc[8].var(), mfcc[9].mean(), mfcc[9].var(), mfcc[10].mean(), mfcc[10].var(), mfcc[11].mean(), mfcc[11].var(), mfcc[12].mean(), mfcc[12].var(), mfcc[13].mean(), mfcc[13].var(), mfcc[14].mean(), mfcc[14].var(), mfcc[15].mean(), mfcc[15].var(), mfcc[16].mean(), mfcc[16].var(), mfcc[17].mean(), mfcc[17].var(), mfcc[18].mean(), mfcc[18].var(), mfcc[19].mean(), mfcc[19].var()]\n",
    "\n",
    "    feature_ext.append(feature_per_3_sec)"
   ]
  },
  {
   "cell_type": "code",
   "execution_count": 12,
   "metadata": {},
   "outputs": [],
   "source": [
    "X_test = pd.DataFrame(feature_ext, dtype=float)"
   ]
  },
  {
   "cell_type": "code",
   "execution_count": 13,
   "metadata": {},
   "outputs": [],
   "source": [
    "data_3_sec = pd.read_csv('features_3_sec.csv')\n",
    "data_3_sec.drop(['filename','length'], axis=1, inplace=True)\n",
    "\n",
    "from sklearn.utils import shuffle\n",
    "data_3_sec = shuffle(data_3_sec)"
   ]
  },
  {
   "cell_type": "code",
   "execution_count": 14,
   "metadata": {},
   "outputs": [],
   "source": [
    "X = data_3_sec.drop('label', axis=1)\n",
    "y = data_3_sec['label']"
   ]
  },
  {
   "cell_type": "code",
   "execution_count": 15,
   "metadata": {},
   "outputs": [
    {
     "name": "stderr",
     "output_type": "stream",
     "text": [
      "/home/r0ckner/.local/lib/python3.8/site-packages/lightgbm/engine.py:177: UserWarning: Found `num_iterations` in params. Will use it instead of argument\n",
      "  _log_warning(f\"Found `{alias}` in params. Will use it instead of argument\")\n"
     ]
    }
   ],
   "source": [
    "from lightgbm import LGBMClassifier\n",
    "\n",
    "lgbm_cls = LGBMClassifier(max_bin=30, learning_rate=0.1, num_iterations = 500, max_depth=20, num_leaves=40, random_state=0)\n",
    "lgbm_cls.fit(X,y)\n",
    "\n",
    "y_pred = lgbm_cls.predict(X_test)"
   ]
  },
  {
   "cell_type": "code",
   "execution_count": 16,
   "metadata": {},
   "outputs": [
    {
     "name": "stdout",
     "output_type": "stream",
     "text": [
      "pop\n"
     ]
    }
   ],
   "source": [
    "print(max(set(list(y_pred)), key=list(y_pred).count))"
   ]
  }
 ],
 "metadata": {
  "interpreter": {
   "hash": "916dbcbb3f70747c44a77c7bcd40155683ae19c65e1c03b4aa3499c5328201f1"
  },
  "kernelspec": {
   "display_name": "Python 3.8.10 64-bit",
   "language": "python",
   "name": "python3"
  },
  "language_info": {
   "codemirror_mode": {
    "name": "ipython",
    "version": 3
   },
   "file_extension": ".py",
   "mimetype": "text/x-python",
   "name": "python",
   "nbconvert_exporter": "python",
   "pygments_lexer": "ipython3",
   "version": "3.8.10"
  },
  "orig_nbformat": 4
 },
 "nbformat": 4,
 "nbformat_minor": 2
}
